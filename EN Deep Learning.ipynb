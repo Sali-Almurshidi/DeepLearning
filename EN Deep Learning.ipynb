{
 "cells": [
  {
   "cell_type": "markdown",
   "metadata": {},
   "source": [
    "## Oefening: Gezichtsdetectie met een CNN en Non-Maximum Suppression (NMS)"
   ]
  },
  {
   "cell_type": "markdown",
   "metadata": {},
   "source": [
    "### Doelstelling\n",
    "Train a CNN to distinguish between faces and non-faces, use the trained model to detect faces in an image, and draw bounding boxes around recognized faces. Then implement **Non-Maximum Suppression (NMS)** to reduce overlapping bounding boxes.\n",
    "\n",
    "Go through the following steps:\n",
    "\n",
    "Compile a training set with faces and non-faces. Several face datasets can be found online.\n",
    "\n",
    "Bijvoorbeeld:  \n",
    "- https://lionbridge.ai/datasets/5-million-faces-top-15-free-image-datasets-for-facial-recognition/ \n",
    "- http://shuoyang1213.me/WIDERFACE/  \n",
    "\n",
    "\n",
    "Train a CNN (may be via transfer learning, but not necessary) that can distinguish faces from non-faces with high accuracy.\n",
    "\n",
    "\n",
    "Test this CNN to have an idea of its classifiation accuracy.\n",
    "If the performance is sufficiently high, you can implement a sliding window detector. This means that you scan the test image several times with a sliding window of different sizes. The CNN will do a classification of the subimage located under the window for each position of the sliding window.\n",
    "\n",
    "Draw a bounding box when the subimage contains a face."
   ]
  },
  {
   "cell_type": "markdown",
   "metadata": {},
   "source": [
    "Additional extension:\n",
    "\n",
    "Problem: Because we scan the image multiple times, each time with windows of different sizes, it is quite possible that multiple bounding boxes will be drawn around the same face. Find a way to merge multiple bounding boxes belonging to the same face into 1 bounding box. A commonly used technique is Non-Maximum Suppression"
   ]
  },
  {
   "cell_type": "markdown",
   "metadata": {},
   "source": [
    "## Step 1: Dataset Preparation.\n",
    "\n",
    "Use a face detection dataset such as:\n",
    "\n",
    "- **Positive samples (faces)**: [LFW (Labeled Faces in the Wild)](http://vis-www.cs.umass.edu/lfw/)\n",
    "- **Negative samples (non-faces)**: random crops from the [CIFAR-10](https://www.cs.toronto.edu/~kriz/cifar.html), ImageNet or from a dataset such as COCO that does not contain faces.\n",
    "\n",
    "**Task**:\n",
    "- Download and prepare the dataset: resize all images to e.g. 64x64 pixels.\n",
    "- Label `1` for faces, `0` for non-faces.\n",
    "- Split into train/fall/test.\n",
    "\n",
    "You can also use the provided images!"
   ]
  },
  {
   "cell_type": "code",
   "metadata": {
    "jupyter": {
     "is_executing": true
    }
   },
   "source": [
    "pip install tensorflow opendatasets\n"
   ],
   "outputs": [],
   "execution_count": null
  },
  {
   "cell_type": "code",
   "metadata": {
    "jupyter": {
     "is_executing": true
    }
   },
   "source": [
    "import tensorflow_datasets as tfds\n",
    "import tensorflow as tf"
   ],
   "outputs": [],
   "execution_count": null
  },
  {
   "cell_type": "markdown",
   "metadata": {},
   "source": [
    "## Step 2: Train a CNN for binary classification\n",
    "\n",
    "**Task**:\n",
    "- Build a CNN with Keras that classifies input images as \"face\" or \"non-face\".\n",
    "- Use e.g. 2-3 conv layers followed by max-pooling and a dense classifier.\n",
    "- Train the model on the dataset created.\n",
    "- Validate on a separate set."
   ]
  },
  {
   "cell_type": "markdown",
   "metadata": {},
   "source": [
    "## Step 3: Sliding window detection.\n",
    "\n",
    "Use the model on a larger image with multiple people:\n",
    "\n",
    "**Task**:\n",
    "- Load an image with multiple people (e.g., a group photo).\n",
    "- Use a sliding window approach: scan the image with windows of 64x64 (or else according to your choice) at different positions and scales.\n",
    "- For each window: use the model to calculate a score.\n",
    "\n",
    "**Output**: list of bounding boxes and corresponding score (confidence that it is a face)."
   ]
  },
  {
   "cell_type": "markdown",
   "metadata": {},
   "source": [
    "## Step 4: Drawing Bounding Boxes\n",
    "\n",
    "**Task**:\n",
    "- Draw the bounding boxes on the original image.\n",
    "- Show the score (e.g., above the box).\n",
    "\n",
    "Use vb `cv2.rectangle` en `cv2.putText`."
   ]
  },
  {
   "cell_type": "markdown",
   "metadata": {},
   "source": [
    "## Step 5: Non-Maximum Suppression (NMS).\n",
    "\n",
    "Overlapping boxes for the same face should be filtered.\n",
    "\n",
    "**Task**:\n",
    "- Implement NMS:\n",
    "  - Sort boxes by score.\n",
    "  - Remove all boxes that overlap with a higher-scoring box (IOU > 0.5)\n",
    "- Visualize the difference before and after NMS."
   ]
  },
  {
   "cell_type": "markdown",
   "metadata": {},
   "source": []
  },
  {
   "cell_type": "code",
   "execution_count": null,
   "metadata": {},
   "outputs": [],
   "source": []
  }
 ],
 "metadata": {
  "kernelspec": {
   "display_name": "Python 3 (ipykernel)",
   "language": "python",
   "name": "python3"
  },
  "language_info": {
   "codemirror_mode": {
    "name": "ipython",
    "version": 3
   },
   "file_extension": ".py",
   "mimetype": "text/x-python",
   "name": "python",
   "nbconvert_exporter": "python",
   "pygments_lexer": "ipython3",
   "version": "3.11.11"
  }
 },
 "nbformat": 4,
 "nbformat_minor": 4
}
