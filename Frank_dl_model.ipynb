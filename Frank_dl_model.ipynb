{
 "cells": [
  {
   "cell_type": "code",
   "id": "initial_id",
   "metadata": {
    "collapsed": true,
    "ExecuteTime": {
     "end_time": "2025-04-21T12:18:28.534930Z",
     "start_time": "2025-04-21T12:18:28.517441Z"
    }
   },
   "source": [
    "import os\n",
    "cwd = os.getcwd()\n",
    "print(cwd)"
   ],
   "outputs": [
    {
     "name": "stdout",
     "output_type": "stream",
     "text": [
      "C:\\Users\\vanho\\OneDrive\\data_science\\WORKDIR\\2024_VDO_DS_Opdracht_Deep_Learning\\OPDRACHT\n"
     ]
    }
   ],
   "execution_count": 1
  },
  {
   "metadata": {
    "ExecuteTime": {
     "end_time": "2025-04-21T10:34:10.103563Z",
     "start_time": "2025-04-21T10:33:06.323047Z"
    }
   },
   "cell_type": "code",
   "source": [
    "# import os\n",
    "# import cv2\n",
    "# import numpy as np\n",
    "# import random\n",
    "# from sklearn.model_selection import train_test_split\n",
    "# import pickle\n",
    "#\n",
    "# # Constants\n",
    "# IMAGE_SIZE = (128, 128)  # Updated image size to 128x128\n",
    "# BASE_DIR = os.getcwd()  # Dynamically get the current working directory\n",
    "#\n",
    "# # Function to load images and label them\n",
    "# def load_images_from_folder(folder, label):\n",
    "#     data = []\n",
    "#     folder_path = os.path.join(BASE_DIR, folder)\n",
    "#     for filename in os.listdir(folder_path):\n",
    "#         filepath = os.path.join(folder_path, filename)\n",
    "#         image = cv2.imread(filepath)\n",
    "#         if image is not None:\n",
    "#             image = cv2.cvtColor(image, cv2.COLOR_BGR2RGB)  # OpenCV uses BGR\n",
    "#             image = cv2.resize(image, IMAGE_SIZE)  # Resize to 128x128\n",
    "#             data.append((image, label))\n",
    "#     return data\n",
    "#\n",
    "# # Dataset directories relative to the current working directory\n",
    "# faces_train_folder = \"Face_Recognition_DS/Face_Recognition/faces\"\n",
    "# faces_test_folder = \"Face_Recognition_DS/Face_Recognition/faces_test\"\n",
    "# no_faces_train_folder = \"Face_Recognition_DS/Face_Recognition/no_faces/linnaeus/Linnaeus 5 128X128/train/all\"\n",
    "# no_faces_test_folder = \"Face_Recognition_DS/Face_Recognition/no_faces/linnaeus/Linnaeus 5 128X128/test/all\"\n",
    "#\n",
    "# # Load datasets\n",
    "# faces_train = load_images_from_folder(faces_train_folder, 1)\n",
    "# faces_test = load_images_from_folder(faces_test_folder, 1)\n",
    "# no_faces_train = load_images_from_folder(no_faces_train_folder, 0)\n",
    "# no_faces_test = load_images_from_folder(no_faces_test_folder, 0)\n",
    "#\n",
    "# # Combine data and shuffle\n",
    "# train_data = faces_train + no_faces_train\n",
    "# test_data = faces_test + no_faces_test\n",
    "# random.seed(42)  # Ensure reproducibility\n",
    "# random.shuffle(train_data)\n",
    "# random.shuffle(test_data)\n",
    "#\n",
    "# # Split into features and labels\n",
    "# X_train = np.array([item[0] for item in train_data])\n",
    "# y_train = np.array([item[1] for item in train_data])\n",
    "# X_test = np.array([item[0] for item in test_data])\n",
    "# y_test = np.array([item[1] for item in test_data])\n",
    "#\n",
    "# # Train-validation split\n",
    "# X_train, X_val, y_train, y_val = train_test_split(X_train, y_train, test_size=0.2, random_state=42)\n",
    "#\n",
    "# # Normalize pixel values to the range [0, 1]\n",
    "# X_train = X_train / 255.0\n",
    "# X_val = X_val / 255.0\n",
    "# X_test = X_test / 255.0\n",
    "#\n",
    "# # Save the datasets as .pkl files\n",
    "# with open(os.path.join(BASE_DIR, \"train_data.pkl\"), \"wb\") as f:\n",
    "#     pickle.dump((X_train, y_train), f)\n",
    "#\n",
    "# with open(os.path.join(BASE_DIR, \"val_data.pkl\"), \"wb\") as f:\n",
    "#     pickle.dump((X_val, y_val), f)\n",
    "#\n",
    "# with open(os.path.join(BASE_DIR, \"test_data.pkl\"), \"wb\") as f:\n",
    "#     pickle.dump((X_test, y_test), f)\n",
    "#\n",
    "# print(\"Dataset resized to 128x128, labeled, split, and saved.\")"
   ],
   "id": "47cbf4b42f4f9a0",
   "outputs": [
    {
     "name": "stdout",
     "output_type": "stream",
     "text": [
      "Dataset resized to 128x128, labeled, split, and saved.\n"
     ]
    }
   ],
   "execution_count": 4
  },
  {
   "metadata": {
    "ExecuteTime": {
     "end_time": "2025-04-21T12:25:13.910653Z",
     "start_time": "2025-04-21T12:24:11.089109Z"
    }
   },
   "cell_type": "code",
   "source": [
    "import os\n",
    "import cv2\n",
    "import numpy as np\n",
    "import random\n",
    "from sklearn.model_selection import train_test_split\n",
    "import pickle\n",
    "\n",
    "# Constants\n",
    "IMAGE_SIZE = (128, 128)  # Updated image size to 128x128\n",
    "BASE_DIR = os.getcwd()  # Dynamically get the current working directory\n",
    "\n",
    "# Function to load images and label them\n",
    "def load_images_from_folder(folder, label):\n",
    "    data = []\n",
    "    folder_path = os.path.join(BASE_DIR, folder)\n",
    "    for filename in os.listdir(folder_path):\n",
    "        filepath = os.path.join(folder_path, filename)\n",
    "        image = cv2.imread(filepath)\n",
    "        if image is not None:\n",
    "            image = cv2.cvtColor(image, cv2.COLOR_BGR2RGB)  # OpenCV uses BGR\n",
    "            image = cv2.resize(image, IMAGE_SIZE)  # Resize to 128x128\n",
    "            data.append((image, label))\n",
    "    return data\n",
    "\n",
    "# Dataset directories relative to the current working directory\n",
    "faces_train_folder = \"Face_Recognition_DS/Face_Recognition/faces\"\n",
    "faces_test_folder = \"Face_Recognition_DS/Face_Recognition/faces_test\"\n",
    "no_faces_train_folder = \"Face_Recognition_DS/Face_Recognition/no_faces/linnaeus/Linnaeus 5 128X128/train/all\"\n",
    "no_faces_test_folder = \"Face_Recognition_DS/Face_Recognition/no_faces/linnaeus/Linnaeus 5 128X128/test/all\"\n",
    "\n",
    "# Load datasets\n",
    "faces_train = load_images_from_folder(faces_train_folder, 1)\n",
    "faces_test = load_images_from_folder(faces_test_folder, 1)\n",
    "no_faces_train = load_images_from_folder(no_faces_train_folder, 0)\n",
    "no_faces_test = load_images_from_folder(no_faces_test_folder, 0)\n",
    "\n",
    "# Combine data and shuffle\n",
    "train_data = faces_train + no_faces_train\n",
    "test_data = faces_test + no_faces_test\n",
    "random.seed(42)  # Ensure reproducibility\n",
    "random.shuffle(train_data)\n",
    "random.shuffle(test_data)\n",
    "\n",
    "# Split into features and labels\n",
    "X_train = np.array([item[0] for item in train_data])\n",
    "y_train = np.array([item[1] for item in train_data])\n",
    "X_test = np.array([item[0] for item in test_data])\n",
    "y_test = np.array([item[1] for item in test_data])\n",
    "\n",
    "# Train-validation split\n",
    "X_train, X_val, y_train, y_val = train_test_split(X_train, y_train, test_size=0.2, random_state=42)\n",
    "\n",
    "# Normalize pixel values to the range [0, 1]\n",
    "X_train = X_train / 255.0\n",
    "X_val = X_val / 255.0\n",
    "X_test = X_test / 255.0\n",
    "\n",
    "# Save the datasets as .pkl files\n",
    "with open(os.path.join(BASE_DIR, \"train_data.pkl\"), \"wb\") as f:\n",
    "    pickle.dump((X_train, y_train), f)\n",
    "\n",
    "with open(os.path.join(BASE_DIR, \"val_data.pkl\"), \"wb\") as f:\n",
    "    pickle.dump((X_val, y_val), f)\n",
    "\n",
    "with open(os.path.join(BASE_DIR, \"test_data.pkl\"), \"wb\") as f:\n",
    "    pickle.dump((X_test, y_test), f)\n",
    "\n",
    "print(\"Dataset resized to 128x128, labeled, split, and saved.\")"
   ],
   "id": "48662cfd4a68e57d",
   "outputs": [
    {
     "name": "stdout",
     "output_type": "stream",
     "text": [
      "Dataset resized to 128x128, labeled, split, and saved.\n"
     ]
    }
   ],
   "execution_count": 2
  },
  {
   "metadata": {},
   "cell_type": "code",
   "outputs": [],
   "execution_count": null,
   "source": "",
   "id": "64e3ade7e86fe5ba"
  }
 ],
 "metadata": {
  "kernelspec": {
   "display_name": "Python (tensorflow_env)",
   "language": "python",
   "name": "tensorflow_env"
  },
  "language_info": {
   "codemirror_mode": {
    "name": "ipython",
    "version": 2
   },
   "file_extension": ".py",
   "mimetype": "text/x-python",
   "name": "python",
   "nbconvert_exporter": "python",
   "pygments_lexer": "ipython2",
   "version": "2.7.6"
  }
 },
 "nbformat": 4,
 "nbformat_minor": 5
}
